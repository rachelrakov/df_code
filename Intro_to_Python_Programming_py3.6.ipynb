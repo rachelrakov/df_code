{
 "cells": [
  {
   "cell_type": "markdown",
   "metadata": {
    "collapsed": true
   },
   "source": [
    "## Greetings!  Welcome to Intro to Python Programming!"
   ]
  },
  {
   "cell_type": "markdown",
   "metadata": {},
   "source": [
    "### \"My advice on learning Python:  Don't set out to 'learn Python'.  Chose a problem you're interested in and learn to solve it with Python.\"\n",
    "-- Jake VanderPlas, author of \"A Whirlwind Tour of Python\" and \"The Python Data Science Handbook\", contributer to many Python packages (scipy, scikit-learn, etc.).  Tweeted September 10, 2017.\n"
   ]
  },
  {
   "cell_type": "markdown",
   "metadata": {
    "collapsed": true
   },
   "source": [
    "- Why learn to program?\n",
    "    - Having an understanding of programming helps you have an understanding of the strengths and limitations of computers.\n",
    "    - Helps you become a smarter computer user\n",
    "    - Helps the development of problem solving skills, especially in analyzing complex systems by reducing them to interactions between simpler systems.\n",
    "    - It’s important for working or researching in many fields\n",
    "    - It's fun!\n",
    "\n",
    "\n",
    "- Why Python?\n",
    "    - Relatively easy to get started with\n",
    "    - Lots of online resources for learning (good documentation)\n",
    "    - Many open-source libraries for Python, which means lots of tools you can use to build programs\n",
    "    - Quickly becoming industry standard for certain fields (particularly machine learning and text analysis)"
   ]
  },
  {
   "cell_type": "markdown",
   "metadata": {},
   "source": [
    "### Getting started\n",
    "- Opening Python in terminal\n",
    "- Opening Python in Jupyter notebook\n",
    "- Terminal v Jupyter notebook"
   ]
  },
  {
   "cell_type": "code",
   "execution_count": null,
   "metadata": {},
   "outputs": [],
   "source": [
    "from __future__ import print_function\n",
    "from __future__ import division"
   ]
  },
  {
   "cell_type": "markdown",
   "metadata": {},
   "source": [
    "### Python: First look"
   ]
  },
  {
   "cell_type": "code",
   "execution_count": null,
   "metadata": {},
   "outputs": [],
   "source": [
    "print (\"Hello, world!\")"
   ]
  },
  {
   "cell_type": "code",
   "execution_count": null,
   "metadata": {},
   "outputs": [],
   "source": [
    "print (2+3)\n",
    "print (\"2+3=\",2+3)\n",
    "print (2.897)"
   ]
  },
  {
   "cell_type": "markdown",
   "metadata": {},
   "source": [
    "### What's with those parentheses?\n",
    "`print`  is a type of *function*.  Whatever goes between the () are what will be printed to the screen.\n",
    "\n",
    "NOTE:  If you are using Python 2.7, `print` works slightly differently."
   ]
  },
  {
   "cell_type": "markdown",
   "metadata": {},
   "source": [
    "### What else have you noticed about the above code?\n",
    "- Python makes use of different `data types` to hold information\n",
    "### What are some different data types?\n",
    "\n",
    "### Strings\n",
    "    - Text data.  Go between \"\" or ''. (\"Like this!\")   \n",
    "### Integers\n",
    "    - Numerical data - whole numbers.  (7, 8)\n",
    "### Floating point numbers\n",
    "    - Numerical data - decimal points (7.0, 8.5)\n",
    "### Lists \n",
    "    - Marked with []\n",
    "    - just like a shopping list\n",
    "    - ['apples', 'bananas', 'kiwi']\n",
    "    - [100, 200, 300]\n"
   ]
  },
  {
   "cell_type": "markdown",
   "metadata": {},
   "source": [
    "### Play with print!"
   ]
  },
  {
   "cell_type": "code",
   "execution_count": null,
   "metadata": {},
   "outputs": [],
   "source": [
    "print (3,4)\n",
    "print (3+4)\n",
    "print (3, 4, 3+4)\n",
    "print ()\n",
    "print (\"the answer is\", 3+4)"
   ]
  },
  {
   "cell_type": "markdown",
   "metadata": {},
   "source": [
    "### Creating and naming variables"
   ]
  },
  {
   "cell_type": "markdown",
   "metadata": {},
   "source": [
    "What if you want to do more with your data than just print it to the screen?  What if you want to manipulate it in some way?\n",
    "- We do this by creating and naming a *variable* - this assigns the data to a name.\n",
    "        <variable> = <expression>\n",
    "- The expression on the right of the = is evaluated to produce a value which is then associated with the variable named on the left of the =."
   ]
  },
  {
   "cell_type": "code",
   "execution_count": null,
   "metadata": {},
   "outputs": [],
   "source": [
    "x = 2\n",
    "print (x)"
   ]
  },
  {
   "cell_type": "code",
   "execution_count": null,
   "metadata": {},
   "outputs": [],
   "source": [
    "x = (2+4)\n",
    "print (x)"
   ]
  },
  {
   "cell_type": "code",
   "execution_count": null,
   "metadata": {},
   "outputs": [],
   "source": [
    "x = 3\n",
    "print (x)\n",
    "#spam = \"SPAM\"\n",
    "#print (spam)\n",
    "\n",
    "#print(x, spam)\n",
    "#Spam = \"fish\"\n",
    "#print (Spam)\n",
    "#print (spamm)"
   ]
  },
  {
   "cell_type": "code",
   "execution_count": null,
   "metadata": {},
   "outputs": [],
   "source": [
    "def hello():\n",
    "    print (\"Hello\")\n",
    "    print (\"Computers are fun\")\n",
    "    print (\"Oh hey it worked!!!\")"
   ]
  },
  {
   "cell_type": "code",
   "execution_count": null,
   "metadata": {},
   "outputs": [],
   "source": [
    "hello()"
   ]
  },
  {
   "cell_type": "code",
   "execution_count": null,
   "metadata": {},
   "outputs": [],
   "source": [
    "def greet(person):\n",
    "    print (\"Hello\", person)\n",
    "    print (\"How are you?\")"
   ]
  },
  {
   "cell_type": "code",
   "execution_count": null,
   "metadata": {},
   "outputs": [],
   "source": [
    "greet (\"Rachel\")\n",
    "greet(\"Workshop attendees\")"
   ]
  },
  {
   "cell_type": "markdown",
   "metadata": {},
   "source": [
    "### Practice!\n",
    "\n",
    "Write a function called goodbye that\n",
    "- prints a personalized goodbye message to the screen."
   ]
  },
  {
   "cell_type": "code",
   "execution_count": null,
   "metadata": {},
   "outputs": [],
   "source": []
  },
  {
   "cell_type": "code",
   "execution_count": null,
   "metadata": {},
   "outputs": [],
   "source": []
  },
  {
   "cell_type": "code",
   "execution_count": null,
   "metadata": {},
   "outputs": [],
   "source": []
  },
  {
   "cell_type": "code",
   "execution_count": null,
   "metadata": {},
   "outputs": [],
   "source": []
  },
  {
   "cell_type": "code",
   "execution_count": null,
   "metadata": {},
   "outputs": [],
   "source": []
  },
  {
   "cell_type": "code",
   "execution_count": null,
   "metadata": {},
   "outputs": [],
   "source": [
    "def goodbye(person):\n",
    "    print (\"Goodbye\", person)\n",
    "    print (\"Have a wonderful night!\")\n",
    "goodbye(\"Rachel\")"
   ]
  },
  {
   "cell_type": "markdown",
   "metadata": {},
   "source": [
    "## Definite loops (For loops)"
   ]
  },
  {
   "cell_type": "markdown",
   "metadata": {},
   "source": [
    "A definite loop executes a definite number of times, i.e., at the time Python starts the loop it knows exactly how many iterations to do.  (“Iteration” = one repetition of a loop)\n",
    "\n",
    "`for <var> in <sequence>:\n",
    "    <body>`\n",
    "\n",
    "The beginning and end of the body are indicated by indentation."
   ]
  },
  {
   "cell_type": "markdown",
   "metadata": {},
   "source": [
    "`for <var> in <sequence>:\n",
    "    <body>`\n",
    "\n",
    "`The variable after the for is called the *loop index*. \n",
    "It takes on each successive value in sequence."
   ]
  },
  {
   "cell_type": "code",
   "execution_count": null,
   "metadata": {},
   "outputs": [],
   "source": [
    "for i in [1,2,3,4,5]:\n",
    "    print(i)"
   ]
  },
  {
   "cell_type": "code",
   "execution_count": null,
   "metadata": {},
   "outputs": [],
   "source": [
    "for odd in [1,3,5,7]:\n",
    "    print (odd*odd)"
   ]
  },
  {
   "cell_type": "markdown",
   "metadata": {},
   "source": [
    "There is a helpful method called “range” that is often used when creating a “for” loop.  Range is a built-in Python function that returns a list of numbers, starting with 0.\n",
    "\n",
    "`range(10)` will make the body of the loop execute 10 times."
   ]
  },
  {
   "cell_type": "code",
   "execution_count": null,
   "metadata": {},
   "outputs": [],
   "source": [
    "## NOTE:  We start at 0!  Because that's what we do.\n",
    "for i in range(10):\n",
    "    print (i)"
   ]
  },
  {
   "cell_type": "code",
   "execution_count": null,
   "metadata": {},
   "outputs": [],
   "source": [
    "##Version 1\n",
    "def addTwo():\n",
    "    ### this program will add 2 to the number 2 ten times\n",
    "    y = 2\n",
    "    for i in range(10):\n",
    "        y = y + 2\n",
    "        print (y)\n",
    "\n",
    "addTwo()"
   ]
  },
  {
   "cell_type": "code",
   "execution_count": null,
   "metadata": {},
   "outputs": [],
   "source": [
    "##Version 2 (does a different thing)\n",
    "def addTwo():\n",
    "    ### this program will add 2 to each number in our range 10 times\n",
    "    for i in range(10):\n",
    "        x = i + 2\n",
    "        print (x)\n",
    "addTwo()     "
   ]
  },
  {
   "cell_type": "markdown",
   "metadata": {},
   "source": [
    "### Practice!  Let's put some ideas together!\n",
    "Write a function that \n",
    "- Multiplies each number in the range by itself i.e. 1x1, 2x2, 3x3, etc.  \n",
    "- Prints out the value at each stage of the function.\n",
    "    - We are squaring each number in `range(10)`"
   ]
  },
  {
   "cell_type": "code",
   "execution_count": null,
   "metadata": {},
   "outputs": [],
   "source": []
  },
  {
   "cell_type": "code",
   "execution_count": null,
   "metadata": {},
   "outputs": [],
   "source": []
  },
  {
   "cell_type": "code",
   "execution_count": null,
   "metadata": {},
   "outputs": [],
   "source": []
  },
  {
   "cell_type": "code",
   "execution_count": null,
   "metadata": {},
   "outputs": [],
   "source": []
  },
  {
   "cell_type": "code",
   "execution_count": null,
   "metadata": {},
   "outputs": [],
   "source": []
  },
  {
   "cell_type": "code",
   "execution_count": null,
   "metadata": {},
   "outputs": [],
   "source": []
  },
  {
   "cell_type": "code",
   "execution_count": null,
   "metadata": {},
   "outputs": [],
   "source": []
  },
  {
   "cell_type": "code",
   "execution_count": null,
   "metadata": {},
   "outputs": [],
   "source": []
  },
  {
   "cell_type": "code",
   "execution_count": null,
   "metadata": {},
   "outputs": [],
   "source": [
    "def squares():\n",
    "    for i in range(10):\n",
    "        x = i**2\n",
    "        print(x)\n",
    "squares()"
   ]
  },
  {
   "cell_type": "markdown",
   "metadata": {},
   "source": [
    "## Input Statements\n",
    "\n",
    "What if you want the user of your program to be able to input information that your program can then use?\n",
    "\n",
    "`def inp():\n",
    "    x = input (Enter something:)\n",
    "    print (x)\n",
    "imp()` \n",
    "    "
   ]
  },
  {
   "cell_type": "code",
   "execution_count": null,
   "metadata": {},
   "outputs": [],
   "source": [
    "def age():\n",
    "    age = input(\"How old are you? \")\n",
    "    print (\"You have said that you are\", age, \"years old.  That's cool!\")\n",
    "age()"
   ]
  },
  {
   "cell_type": "markdown",
   "metadata": {},
   "source": [
    "## Practice!\n",
    "Write a function called breakfast that does the following:\n",
    "\n",
    "- Asks a user to input the number of eggs they would like for breakfast\n",
    "- Prints out their order – e.g. “You ordered 2 eggs. Coming right up!”"
   ]
  },
  {
   "cell_type": "code",
   "execution_count": null,
   "metadata": {},
   "outputs": [],
   "source": []
  },
  {
   "cell_type": "code",
   "execution_count": null,
   "metadata": {},
   "outputs": [],
   "source": []
  },
  {
   "cell_type": "code",
   "execution_count": null,
   "metadata": {},
   "outputs": [],
   "source": []
  },
  {
   "cell_type": "code",
   "execution_count": null,
   "metadata": {},
   "outputs": [],
   "source": []
  },
  {
   "cell_type": "code",
   "execution_count": null,
   "metadata": {},
   "outputs": [],
   "source": []
  },
  {
   "cell_type": "code",
   "execution_count": null,
   "metadata": {},
   "outputs": [],
   "source": []
  },
  {
   "cell_type": "code",
   "execution_count": null,
   "metadata": {},
   "outputs": [],
   "source": []
  },
  {
   "cell_type": "code",
   "execution_count": null,
   "metadata": {},
   "outputs": [],
   "source": []
  },
  {
   "cell_type": "code",
   "execution_count": null,
   "metadata": {},
   "outputs": [],
   "source": [
    "def breakfast():\n",
    "    eggs = input(\"Enter # of eggs you would like to eat: \")\n",
    "    print (\"You ordered\", eggs, \"eggs.  Coming right up!\")\n",
    "\n",
    "breakfast()"
   ]
  },
  {
   "cell_type": "markdown",
   "metadata": {},
   "source": [
    "### Practice!\n",
    "Modify your existing goodbye code so that\n",
    "- it takes as input what name to say goodbye to"
   ]
  },
  {
   "cell_type": "markdown",
   "metadata": {},
   "source": [
    "# A quick word from our sponser...\n",
    "The Digital Fellows!  We really appreciate you coming out to learn things tonight, and would love your feedback!  Please take a moment to fill out this feedback form, so that we can continue to make our workshops even better for you!\n",
    "\n",
    "## cuny.is/gcdievals"
   ]
  },
  {
   "cell_type": "markdown",
   "metadata": {},
   "source": [
    "## This is great!  How can I learn more!\n",
    "- Python User Group  (PUG)\n",
    "    - First meeting October 15th, 6:30pm-8:30pm\n",
    "- Office hours!\n",
    "    - Alternating Mondays and Wednesdays (see website for specific dates)\n",
    "- Come to more workshops!\n",
    "- GC Digital Research Institute \n",
    "    - In January!\n",
    "- Programming courses!\n",
    "    - Methods in Computational Linguistics 1 (Fall 2018)"
   ]
  },
  {
   "cell_type": "markdown",
   "metadata": {},
   "source": [
    "## Decision Structures\n",
    "\n",
    "Say that we wanted to write a program that has a user input a number, and we can tell them if their number is an even number or an odd number.\n",
    "\n",
    "There is a cool quirk we can use here!  `%` will give you the *remainder* of numbers that you divide by.\n",
    "\n",
    "We can use this trick to write our function!"
   ]
  },
  {
   "cell_type": "code",
   "execution_count": null,
   "metadata": {},
   "outputs": [],
   "source": [
    "print (3%2)\n",
    "print (4%2)"
   ]
  },
  {
   "cell_type": "code",
   "execution_count": null,
   "metadata": {},
   "outputs": [],
   "source": [
    "#Version 1\n",
    "def isOdd():    \n",
    "    print (\"This function will print a 0 if your number is even and a 1 if your number is odd.\")\n",
    "    check = input(\"Enter the number you would like to check: \")\n",
    "    check = int(check)\n",
    "    output = check%2\n",
    "    print (output)\n",
    "isOdd()"
   ]
  },
  {
   "cell_type": "markdown",
   "metadata": {},
   "source": [
    "This is okay....but wouldn't it be better if we could print out a more useful statement at the end?"
   ]
  },
  {
   "cell_type": "markdown",
   "metadata": {},
   "source": [
    "### Decisions and conditions\n",
    "The Python if statement is used to implement the decision.\n",
    "\n",
    "`if <condition>:\n",
    "    <body>`\n",
    "    \n",
    "The body is a sequence of one or more statements indented under the `if` heading.\n",
    "\n",
    "- What is our condition, in this case?"
   ]
  },
  {
   "cell_type": "markdown",
   "metadata": {},
   "source": [
    "\"If output is 1, it is an odd number.  If not, it is an even number.\"\n",
    "\n",
    "Can we translate that into code?  Of course we can!"
   ]
  },
  {
   "cell_type": "code",
   "execution_count": null,
   "metadata": {},
   "outputs": [],
   "source": [
    "#Version 2\n",
    "def isOdd():\n",
    "    check = input(\"What number would you like to check?: \")\n",
    "    check = int(check)\n",
    "    output = check%2\n",
    "    if output == 1:\n",
    "        print (\"Your number is odd.\")\n",
    "    else:\n",
    "        print (\"Your number is even.\")\n",
    "    \n",
    "isOdd()"
   ]
  },
  {
   "cell_type": "markdown",
   "metadata": {},
   "source": [
    "## NOTE:  ==\n",
    "Conditionals use mathematical symbols: > for 'greater than', < for 'less than', and == for equal to\n",
    "- Why can't we use = for 'equal to'?"
   ]
  },
  {
   "cell_type": "markdown",
   "metadata": {},
   "source": [
    "## Conditionals\n",
    "\n",
    "aka \"If-then statements\"\n",
    "\n",
    "Some style issues:\n",
    "\n",
    "* if item in my_list:\n",
    "* if a == b:\n",
    "* if a > b:\n",
    "* if a >= b:\n",
    "\n"
   ]
  },
  {
   "cell_type": "markdown",
   "metadata": {},
   "source": [
    "### Practice!\n",
    "Write a function that \n",
    "- takes a number as input\n",
    "- prints out whether that number is greater than or less than ten"
   ]
  },
  {
   "cell_type": "code",
   "execution_count": null,
   "metadata": {},
   "outputs": [],
   "source": []
  },
  {
   "cell_type": "code",
   "execution_count": null,
   "metadata": {},
   "outputs": [],
   "source": []
  },
  {
   "cell_type": "code",
   "execution_count": null,
   "metadata": {},
   "outputs": [],
   "source": []
  },
  {
   "cell_type": "code",
   "execution_count": null,
   "metadata": {},
   "outputs": [],
   "source": []
  },
  {
   "cell_type": "code",
   "execution_count": null,
   "metadata": {},
   "outputs": [],
   "source": []
  },
  {
   "cell_type": "code",
   "execution_count": null,
   "metadata": {},
   "outputs": [],
   "source": []
  },
  {
   "cell_type": "code",
   "execution_count": null,
   "metadata": {},
   "outputs": [],
   "source": []
  },
  {
   "cell_type": "code",
   "execution_count": null,
   "metadata": {},
   "outputs": [],
   "source": [
    "## Version 1\n",
    "def compare():\n",
    "    number = input(\"Enter the number you would like to check:  \")\n",
    "    number = int(number)\n",
    "    if number > 10:\n",
    "        print (number, \"is greater than 10\")\n",
    "    else:\n",
    "        print (number, \"is less than 10\")\n",
    "compare()"
   ]
  },
  {
   "cell_type": "markdown",
   "metadata": {},
   "source": [
    "But what happens when we check 10?\n",
    "\n",
    "How could we fix this?"
   ]
  },
  {
   "cell_type": "markdown",
   "metadata": {},
   "source": [
    "One way we could fix this is by using *multiway decisions*\n",
    "\n",
    "`if <condition1>:\n",
    "    <case1 statements>\n",
    " elif <condition2>:\n",
    "    <case2 statements>\n",
    " else:\n",
    "     <default statements>`"
   ]
  },
  {
   "cell_type": "markdown",
   "metadata": {},
   "source": [
    "### Practice!\n",
    "Modify your above code so that it can handle input 10"
   ]
  },
  {
   "cell_type": "code",
   "execution_count": null,
   "metadata": {},
   "outputs": [],
   "source": []
  }
 ],
 "metadata": {
  "anaconda-cloud": {},
  "kernelspec": {
   "display_name": "Python 3",
   "language": "python",
   "name": "python3"
  },
  "language_info": {
   "codemirror_mode": {
    "name": "ipython",
    "version": 3
   },
   "file_extension": ".py",
   "mimetype": "text/x-python",
   "name": "python",
   "nbconvert_exporter": "python",
   "pygments_lexer": "ipython3",
   "version": "3.6.1"
  }
 },
 "nbformat": 4,
 "nbformat_minor": 1
}
