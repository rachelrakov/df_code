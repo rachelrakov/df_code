{
 "cells": [
  {
   "cell_type": "code",
   "execution_count": 1,
   "metadata": {},
   "outputs": [],
   "source": [
    "from __future__ import print_function\n",
    "from __future__ import division\n"
   ]
  },
  {
   "cell_type": "markdown",
   "metadata": {},
   "source": [
    "## Greetings!  Welcome to Intro to Python Programming!"
   ]
  },
  {
   "cell_type": "markdown",
   "metadata": {},
   "source": [
    "- Why learn to program?\n",
    "    - Having an understanding of programming helps you have an understanding of the strengths and limitations of computers.\n",
    "    - Helps you become a smarter computer user\n",
    "    - Helps the development of problem solving skills, especially in analyzing complex systems by reducing them to interactions between simpler systems.\n",
    "    - It’s important for working or researching in many fields\n",
    "    - It's fun!\n",
    "\n",
    "\n",
    "- Why Python?\n",
    "    - Relatively easy to get started with\n",
    "    - Lots of online resources for learning (good documentation)\n",
    "    - Many open-source libraries for Python, which means lots of tools you can use to build programs\n",
    "    - Quickly becoming industry standard for certain fields (particularly machine learning and text analysis)\n"
   ]
  },
  {
   "cell_type": "markdown",
   "metadata": {},
   "source": [
    "Getting started\n",
    "- Opening Python in terminal\n",
    "- Opening Python in Jupyter notebook\n",
    "- Terminal v Jupyter notebook"
   ]
  },
  {
   "cell_type": "markdown",
   "metadata": {},
   "source": [
    "### Python: First look"
   ]
  },
  {
   "cell_type": "code",
   "execution_count": 3,
   "metadata": {},
   "outputs": [
    {
     "name": "stdout",
     "output_type": "stream",
     "text": [
      "Hello, world!\n"
     ]
    }
   ],
   "source": [
    "print (\"Hello, world!\")"
   ]
  },
  {
   "cell_type": "code",
   "execution_count": 4,
   "metadata": {},
   "outputs": [
    {
     "name": "stdout",
     "output_type": "stream",
     "text": [
      "5\n",
      "('2+3=', 5)\n",
      "2.897\n"
     ]
    }
   ],
   "source": [
    "print (2+3)\n",
    "print (\"2+3=\",2+3)\n",
    "print (2.897)"
   ]
  },
  {
   "cell_type": "markdown",
   "metadata": {},
   "source": [
    "### What's with those parentheses?\n",
    "`print`  is a type of *function*.  Whatever goes between the () are what will be printed to the screen.\n",
    "\n",
    "NOTE:  If you are using Python 2.7, `print` works slightly differently."
   ]
  },
  {
   "cell_type": "markdown",
   "metadata": {},
   "source": [
    "### What else have you noticed about the above code?\n",
    "- Python makes use of different `data types` to hold information\n",
    "    - Strings:  Text data.  Go between \"\" or ''. (\"Like this!\")\n",
    "    - Integers: Numerical data - whole numbers.  (7, 8)\n",
    "    - Floating point numbers: Numerical data - decimal points (7.0, 8.5)"
   ]
  },
  {
   "cell_type": "markdown",
   "metadata": {},
   "source": [
    "### Play with print!"
   ]
  },
  {
   "cell_type": "code",
   "execution_count": 5,
   "metadata": {},
   "outputs": [
    {
     "name": "stdout",
     "output_type": "stream",
     "text": [
      "(3, 4)\n",
      "7\n",
      "(3, 4, 7)\n",
      "()\n",
      "('the answer is', 7)\n"
     ]
    }
   ],
   "source": [
    "print (3,4)\n",
    "print (3+4)\n",
    "print (3, 4, 3+4)\n",
    "print ()\n",
    "print (\"the answer is\", 3+4)"
   ]
  },
  {
   "cell_type": "markdown",
   "metadata": {},
   "source": [
    "### Creating and naming variables"
   ]
  },
  {
   "cell_type": "markdown",
   "metadata": {},
   "source": [
    "What if you want to do more with your data than just print it to the screen?  What if you want to manipulate it in some way?\n",
    "- We do this by creating and naming a *variable* - this assigns the data to a name.\n",
    "        <variable> = <expression>\n",
    "- The expression on the right of the = is evaluated to produce a value which is then associated with the variable named on the left of the =.\n"
   ]
  },
  {
   "cell_type": "code",
   "execution_count": 6,
   "metadata": {},
   "outputs": [
    {
     "name": "stdout",
     "output_type": "stream",
     "text": [
      "2\n"
     ]
    }
   ],
   "source": [
    "x = 2\n",
    "print (x)"
   ]
  },
  {
   "cell_type": "code",
   "execution_count": 8,
   "metadata": {},
   "outputs": [
    {
     "name": "stdout",
     "output_type": "stream",
     "text": [
      "6\n"
     ]
    }
   ],
   "source": [
    "x = (2+4)\n",
    "print (x)\n"
   ]
  },
  {
   "cell_type": "code",
   "execution_count": 9,
   "metadata": {},
   "outputs": [
    {
     "name": "stdout",
     "output_type": "stream",
     "text": [
      "3\n",
      "SPAM\n",
      "(3, 'SPAM')\n"
     ]
    },
    {
     "ename": "NameError",
     "evalue": "name 'Spam' is not defined",
     "output_type": "error",
     "traceback": [
      "\u001b[0;31m---------------------------------------------------------------------------\u001b[0m",
      "\u001b[0;31mNameError\u001b[0m                                 Traceback (most recent call last)",
      "\u001b[0;32m<ipython-input-9-c6a10afd5ca5>\u001b[0m in \u001b[0;36m<module>\u001b[0;34m()\u001b[0m\n\u001b[1;32m      6\u001b[0m \u001b[1;32mprint\u001b[0m\u001b[1;33m(\u001b[0m\u001b[0mx\u001b[0m\u001b[1;33m,\u001b[0m \u001b[0mspam\u001b[0m\u001b[1;33m)\u001b[0m\u001b[1;33m\u001b[0m\u001b[0m\n\u001b[1;32m      7\u001b[0m \u001b[1;31m#Spam = \"fish\"+3\u001b[0m\u001b[1;33m\u001b[0m\u001b[1;33m\u001b[0m\u001b[0m\n\u001b[0;32m----> 8\u001b[0;31m \u001b[1;32mprint\u001b[0m \u001b[1;33m(\u001b[0m\u001b[0mSpam\u001b[0m\u001b[1;33m)\u001b[0m\u001b[1;33m\u001b[0m\u001b[0m\n\u001b[0m",
      "\u001b[0;31mNameError\u001b[0m: name 'Spam' is not defined"
     ]
    }
   ],
   "source": [
    "x = 3\n",
    "print (x)\n",
    "spam = \"SPAM\"\n",
    "print (spam)\n",
    "\n",
    "print(x, spam)\n",
    "#Spam = \"fish\"+3\n",
    "print (Spam)"
   ]
  },
  {
   "cell_type": "markdown",
   "metadata": {},
   "source": [
    "### Functions"
   ]
  },
  {
   "cell_type": "code",
   "execution_count": 10,
   "metadata": {},
   "outputs": [],
   "source": [
    "def hello():\n",
    "    print (\"Hello\")\n",
    "    print (\"Computers are fun\")\n",
    "    print (\"Oh hey it worked!!!\")"
   ]
  },
  {
   "cell_type": "code",
   "execution_count": 11,
   "metadata": {},
   "outputs": [
    {
     "name": "stdout",
     "output_type": "stream",
     "text": [
      "Hello\n",
      "Computers are fun\n",
      "Oh hey it worked!!!\n"
     ]
    }
   ],
   "source": [
    "hello()"
   ]
  },
  {
   "cell_type": "code",
   "execution_count": 12,
   "metadata": {
    "collapsed": true
   },
   "outputs": [],
   "source": [
    "def greet(person):\n",
    "    print (\"Hello\", person)\n",
    "    print (\"How are you?\")"
   ]
  },
  {
   "cell_type": "code",
   "execution_count": 13,
   "metadata": {},
   "outputs": [
    {
     "name": "stdout",
     "output_type": "stream",
     "text": [
      "('Hello', 'Rachel')\n",
      "How are you?\n",
      "('Hello', 'Workshop attendees')\n",
      "How are you?\n"
     ]
    }
   ],
   "source": [
    "greet (\"Rachel\")\n",
    "greet(\"Workshop attendees\")"
   ]
  },
  {
   "cell_type": "markdown",
   "metadata": {
    "collapsed": true
   },
   "source": [
    "### Practice!\n",
    "\n",
    "Write a function called goodbye that\n",
    "- prints a personalized goodbye message to the screen."
   ]
  },
  {
   "cell_type": "code",
   "execution_count": null,
   "metadata": {
    "collapsed": true
   },
   "outputs": [],
   "source": []
  },
  {
   "cell_type": "code",
   "execution_count": null,
   "metadata": {
    "collapsed": true
   },
   "outputs": [],
   "source": []
  },
  {
   "cell_type": "code",
   "execution_count": null,
   "metadata": {
    "collapsed": true
   },
   "outputs": [],
   "source": []
  },
  {
   "cell_type": "code",
   "execution_count": null,
   "metadata": {
    "collapsed": true
   },
   "outputs": [],
   "source": []
  },
  {
   "cell_type": "code",
   "execution_count": null,
   "metadata": {
    "collapsed": true
   },
   "outputs": [],
   "source": []
  },
  {
   "cell_type": "code",
   "execution_count": null,
   "metadata": {
    "collapsed": true
   },
   "outputs": [],
   "source": []
  },
  {
   "cell_type": "code",
   "execution_count": 14,
   "metadata": {},
   "outputs": [
    {
     "name": "stdout",
     "output_type": "stream",
     "text": [
      "('Goodbye', 'Rachel')\n",
      "Have a wonderful night!\n"
     ]
    }
   ],
   "source": [
    "def goodbye(person):\n",
    "    print (\"Goodbye\", person)\n",
    "    print (\"Have a wonderful night!\")\n",
    "goodbye(\"Rachel\")"
   ]
  },
  {
   "cell_type": "markdown",
   "metadata": {},
   "source": [
    "## Definite loops (For loops)"
   ]
  },
  {
   "cell_type": "markdown",
   "metadata": {},
   "source": [
    "A definite loop executes a definite number of times, i.e., at the time Python starts the loop it knows exactly how many iterations to do.  (“Iteration” = one repetition of a loop)\n",
    "\n",
    "`for <var> in <sequence>:\n",
    "    <body>`\n",
    "\n",
    "The beginning and end of the body are indicated by indentation.\n"
   ]
  },
  {
   "cell_type": "markdown",
   "metadata": {},
   "source": [
    "`for <var> in <sequence>:\n",
    "    <body>`\n",
    "\n",
    "`The variable after the for is called the *loop index*. \n",
    "It takes on each successive value in sequence.\n"
   ]
  },
  {
   "cell_type": "code",
   "execution_count": 15,
   "metadata": {},
   "outputs": [
    {
     "name": "stdout",
     "output_type": "stream",
     "text": [
      "1\n",
      "2\n",
      "3\n",
      "4\n",
      "5\n"
     ]
    }
   ],
   "source": [
    "for i in [1,2,3,4,5]:\n",
    "    print(i)"
   ]
  },
  {
   "cell_type": "code",
   "execution_count": 16,
   "metadata": {},
   "outputs": [
    {
     "name": "stdout",
     "output_type": "stream",
     "text": [
      "1\n",
      "9\n",
      "25\n",
      "49\n"
     ]
    }
   ],
   "source": [
    "for odd in [1,3,5,7]:\n",
    "    print (odd*odd)"
   ]
  },
  {
   "cell_type": "markdown",
   "metadata": {},
   "source": [
    "There is a helpful method called “range” that is often used when creating a “for” loop.  Range is a built-in Python function that returns a list of numbers, starting with 0.\n",
    "\n",
    "`range(10)` will make the body of the loop execute 10 times."
   ]
  },
  {
   "cell_type": "code",
   "execution_count": 17,
   "metadata": {},
   "outputs": [
    {
     "data": {
      "text/plain": [
       "[0, 1, 2, 3, 4, 5, 6, 7, 8, 9]"
      ]
     },
     "execution_count": 17,
     "metadata": {},
     "output_type": "execute_result"
    }
   ],
   "source": [
    "range(10)"
   ]
  },
  {
   "cell_type": "code",
   "execution_count": 18,
   "metadata": {},
   "outputs": [
    {
     "name": "stdout",
     "output_type": "stream",
     "text": [
      "4\n",
      "6\n",
      "8\n",
      "10\n",
      "12\n",
      "14\n",
      "16\n",
      "18\n",
      "20\n",
      "22\n"
     ]
    }
   ],
   "source": [
    "##Version 1\n",
    "def addTwo():\n",
    "    ### this program will add 2 to the number 2 ten times\n",
    "    x = 2\n",
    "    for i in range(10):\n",
    "        x = x + 2\n",
    "        print (x)\n",
    "\n",
    "addTwo()"
   ]
  },
  {
   "cell_type": "code",
   "execution_count": 36,
   "metadata": {},
   "outputs": [
    {
     "name": "stdout",
     "output_type": "stream",
     "text": [
      "2\n",
      "3\n",
      "4\n",
      "5\n",
      "6\n",
      "7\n",
      "8\n",
      "9\n",
      "10\n",
      "11\n"
     ]
    }
   ],
   "source": [
    "##Version 2\n",
    "def addTwo():\n",
    "    ### this program will add 2 to each number in our range 10 times\n",
    "    for i in range(10):\n",
    "        x = i + 2\n",
    "        print (x)\n",
    "addTwo()        "
   ]
  },
  {
   "cell_type": "markdown",
   "metadata": {},
   "source": [
    "### Practice!  Let's put some ideas together!\n",
    "Write a function that \n",
    "- Multiplies each number in the range by itself i.e. 1x1, 2x2, 3x3, etc.  \n",
    "- Prints out the value at each stage of the function.\n",
    "    - We are squaring each number in `range(10)`"
   ]
  },
  {
   "cell_type": "code",
   "execution_count": null,
   "metadata": {
    "collapsed": true
   },
   "outputs": [],
   "source": []
  },
  {
   "cell_type": "code",
   "execution_count": null,
   "metadata": {
    "collapsed": true
   },
   "outputs": [],
   "source": []
  },
  {
   "cell_type": "code",
   "execution_count": null,
   "metadata": {
    "collapsed": true
   },
   "outputs": [],
   "source": []
  },
  {
   "cell_type": "code",
   "execution_count": null,
   "metadata": {
    "collapsed": true
   },
   "outputs": [],
   "source": []
  },
  {
   "cell_type": "code",
   "execution_count": null,
   "metadata": {
    "collapsed": true
   },
   "outputs": [],
   "source": []
  },
  {
   "cell_type": "code",
   "execution_count": null,
   "metadata": {
    "collapsed": true
   },
   "outputs": [],
   "source": []
  },
  {
   "cell_type": "code",
   "execution_count": null,
   "metadata": {
    "collapsed": true
   },
   "outputs": [],
   "source": []
  },
  {
   "cell_type": "code",
   "execution_count": 38,
   "metadata": {},
   "outputs": [
    {
     "name": "stdout",
     "output_type": "stream",
     "text": [
      "0\n",
      "1\n",
      "4\n",
      "9\n",
      "16\n",
      "25\n",
      "36\n",
      "49\n",
      "64\n",
      "81\n"
     ]
    }
   ],
   "source": [
    "def squares():\n",
    "    for i in range(10):\n",
    "        x = i**2\n",
    "        print(x)\n",
    "squares()"
   ]
  },
  {
   "cell_type": "markdown",
   "metadata": {},
   "source": [
    "## Input Statements\n",
    "What if you want the user of your program to be able to input information that your program can then use?\n",
    "\n",
    "    def inp():     \n",
    "        x = input(\"Enter something:\")    \n",
    "        print (x) \n",
    "\n",
    "    inp()"
   ]
  },
  {
   "cell_type": "code",
   "execution_count": null,
   "metadata": {},
   "outputs": [],
   "source": [
    "def age():\n",
    "    age = input(\"How old are you? \")\n",
    "    print (\"You have said that you are\", age, \"years old.  That's cool!\")\n",
    "age()"
   ]
  },
  {
   "cell_type": "markdown",
   "metadata": {},
   "source": [
    "## Practice!\n",
    "Write a function called breakfast that does the following:\n",
    "\n",
    "- Asks a user to input the number of eggs they would like for breakfast\n",
    "- Prints out their order – e.g. “You ordered 2 eggs. Coming right up!”"
   ]
  },
  {
   "cell_type": "code",
   "execution_count": null,
   "metadata": {
    "collapsed": true
   },
   "outputs": [],
   "source": []
  },
  {
   "cell_type": "code",
   "execution_count": null,
   "metadata": {
    "collapsed": true
   },
   "outputs": [],
   "source": []
  },
  {
   "cell_type": "code",
   "execution_count": null,
   "metadata": {
    "collapsed": true
   },
   "outputs": [],
   "source": []
  },
  {
   "cell_type": "code",
   "execution_count": null,
   "metadata": {
    "collapsed": true
   },
   "outputs": [],
   "source": []
  },
  {
   "cell_type": "code",
   "execution_count": null,
   "metadata": {
    "collapsed": true
   },
   "outputs": [],
   "source": []
  },
  {
   "cell_type": "code",
   "execution_count": null,
   "metadata": {
    "collapsed": true
   },
   "outputs": [],
   "source": []
  },
  {
   "cell_type": "code",
   "execution_count": null,
   "metadata": {
    "collapsed": true
   },
   "outputs": [],
   "source": []
  },
  {
   "cell_type": "code",
   "execution_count": 19,
   "metadata": {},
   "outputs": [
    {
     "name": "stdout",
     "output_type": "stream",
     "text": [
      "Enter # of eggs you would like to eat: 7\n",
      "('You ordered', 7, 'eggs.  Coming right up!')\n"
     ]
    }
   ],
   "source": [
    "def breakfast():\n",
    "    eggs = input(\"Enter # of eggs you would like to eat: \")\n",
    "    print (\"You ordered\", eggs, \"eggs.  Coming right up!\")\n",
    "\n",
    "breakfast()\n"
   ]
  },
  {
   "cell_type": "markdown",
   "metadata": {},
   "source": [
    "What if you want to input words?"
   ]
  },
  {
   "cell_type": "code",
   "execution_count": null,
   "metadata": {},
   "outputs": [],
   "source": [
    "def greet():\n",
    "    person = input(\"Who would you like to greet?:  \")\n",
    "    print (\"Hello\", person)\n",
    "    print (\"It's very nice to meet you!\")\n",
    "\n",
    "greet()"
   ]
  },
  {
   "cell_type": "markdown",
   "metadata": {
    "collapsed": true
   },
   "source": [
    "### Practice!\n",
    "Modify your existing goodbye code so that\n",
    "- it takes as input what name to say goodbye to"
   ]
  },
  {
   "cell_type": "markdown",
   "metadata": {},
   "source": [
    "# A quick word from our sponser...\n",
    "The Digital Fellows!  We really appreciate you coming out to learn things tonight, and would love your feedback!  Please take a moment to fill out this feedback form, so that we can continue to make our workshops even better for you!\n",
    "\n",
    "## http://bit.ly/2mOhXm4"
   ]
  },
  {
   "cell_type": "markdown",
   "metadata": {},
   "source": [
    "## Decision Structures\n",
    "\n",
    "Say that we wanted to write a program that has a user input a number, and we can tell them if their number is an even number or an odd number.\n",
    "\n",
    "There is a cool quirk we can use here!  `%` will give you the *remainder* of numbers that you divide by.\n",
    "\n",
    "We can use this trick to write our function!"
   ]
  },
  {
   "cell_type": "code",
   "execution_count": 20,
   "metadata": {},
   "outputs": [
    {
     "name": "stdout",
     "output_type": "stream",
     "text": [
      "1\n",
      "0\n"
     ]
    }
   ],
   "source": [
    "print (3%2)\n",
    "print (4%2)"
   ]
  },
  {
   "cell_type": "code",
   "execution_count": null,
   "metadata": {},
   "outputs": [],
   "source": [
    "#Version 1\n",
    "def isOdd():    \n",
    "    print (\"This function will print a 0 if your number is even and a 1 if your number is odd.\")\n",
    "    check = input(\"Enter the number you would like to check: \")\n",
    "    output = check%2\n",
    "    print (output)\n",
    "isOdd()"
   ]
  },
  {
   "cell_type": "markdown",
   "metadata": {},
   "source": [
    "This is okay....but wouldn't it be better if we could print out a more useful statement at the end?"
   ]
  },
  {
   "cell_type": "markdown",
   "metadata": {},
   "source": [
    "### Decisions and conditions\n",
    "The Python if statement is used to implement the decision.\n",
    "\n",
    "`if <condition>:\n",
    "    <body>`\n",
    "    \n",
    "The body is a sequence of one or more statements indented under the `if` heading.\n",
    "\n",
    "- What is our condition, in this case?\n"
   ]
  },
  {
   "cell_type": "markdown",
   "metadata": {},
   "source": [
    "\"If output is 1, it is an odd number.  If not, it is an even number.\"\n",
    "\n",
    "Can we translate that into code?  Of course we can!"
   ]
  },
  {
   "cell_type": "code",
   "execution_count": 21,
   "metadata": {},
   "outputs": [
    {
     "name": "stdout",
     "output_type": "stream",
     "text": [
      "What number would you like to check?: 9\n",
      "Your number is odd.\n"
     ]
    }
   ],
   "source": [
    "#Version 2\n",
    "def isOdd():\n",
    "    check = input(\"What number would you like to check?: \")\n",
    "    output = check%2\n",
    "    if output == 1:\n",
    "        print (\"Your number is odd.\")\n",
    "    else:\n",
    "        print (\"Your number is even.\")\n",
    "    \n",
    "isOdd()"
   ]
  },
  {
   "cell_type": "markdown",
   "metadata": {},
   "source": [
    "## NOTE:  ==\n",
    "Conditionals use mathematical symbols: > for 'greater than', < for 'less than', and == for equal to\n",
    "- Why can't we use = for 'equal to'?"
   ]
  },
  {
   "cell_type": "markdown",
   "metadata": {},
   "source": [
    "### Practice!\n",
    "Write a function that \n",
    "- takes a number as input\n",
    "- prints out whether that number is greater than or less than ten"
   ]
  },
  {
   "cell_type": "code",
   "execution_count": null,
   "metadata": {
    "collapsed": true
   },
   "outputs": [],
   "source": []
  },
  {
   "cell_type": "code",
   "execution_count": null,
   "metadata": {
    "collapsed": true
   },
   "outputs": [],
   "source": []
  },
  {
   "cell_type": "code",
   "execution_count": null,
   "metadata": {
    "collapsed": true
   },
   "outputs": [],
   "source": []
  },
  {
   "cell_type": "code",
   "execution_count": null,
   "metadata": {
    "collapsed": true
   },
   "outputs": [],
   "source": []
  },
  {
   "cell_type": "code",
   "execution_count": null,
   "metadata": {
    "collapsed": true
   },
   "outputs": [],
   "source": []
  },
  {
   "cell_type": "code",
   "execution_count": null,
   "metadata": {
    "collapsed": true
   },
   "outputs": [],
   "source": []
  },
  {
   "cell_type": "code",
   "execution_count": null,
   "metadata": {
    "collapsed": true
   },
   "outputs": [],
   "source": []
  },
  {
   "cell_type": "code",
   "execution_count": 22,
   "metadata": {},
   "outputs": [
    {
     "name": "stdout",
     "output_type": "stream",
     "text": [
      "Enter the number you would like to check:  10\n",
      "(10, 'is less than 10')\n"
     ]
    }
   ],
   "source": [
    "## Version 1\n",
    "def compare():\n",
    "    number = input(\"Enter the number you would like to check:  \")\n",
    "    if number > 10:\n",
    "        print (number, \"is greater than 10\")\n",
    "    else:\n",
    "        print (number, \"is less than 10\")\n",
    "compare()"
   ]
  },
  {
   "cell_type": "markdown",
   "metadata": {},
   "source": [
    "But what happens when we check 10?\n",
    "\n",
    "How could we fix this?"
   ]
  },
  {
   "cell_type": "markdown",
   "metadata": {},
   "source": [
    "One way we could fix this is by using *multiway decisions*\n",
    "\n",
    "`if <condition1>:\n",
    "    <case1 statements>\n",
    " elif <condition2>:\n",
    "    <case2 statements>\n",
    " else:\n",
    "     <default statements>`\n",
    "     \n"
   ]
  },
  {
   "cell_type": "markdown",
   "metadata": {},
   "source": [
    "### Practice!\n",
    "Modify your above code so that it can handle input 10"
   ]
  },
  {
   "cell_type": "markdown",
   "metadata": {},
   "source": [
    "## This is great!  How can I learn more!\n",
    "- Python User Group  (PUG)\n",
    "- Office hours!\n",
    "- Come to more workshops!\n",
    "- Python Learning Working Group (as interest builds)\n",
    "- Text Analysis Working Group (for those of you looking to do Text Analysis and want to use Python to do it)\n",
    "- Programming courses!\n",
    "    - Methods in Computational Linguistics 1 (Fall 2017)"
   ]
  },
  {
   "cell_type": "code",
   "execution_count": null,
   "metadata": {
    "collapsed": true
   },
   "outputs": [],
   "source": []
  }
 ],
 "metadata": {
  "anaconda-cloud": {},
  "kernelspec": {
   "display_name": "Python 3",
   "language": "python",
   "name": "python3"
  },
  "language_info": {
   "codemirror_mode": {
    "name": "ipython",
    "version": 3
   },
   "file_extension": ".py",
   "mimetype": "text/x-python",
   "name": "python",
   "nbconvert_exporter": "python",
   "pygments_lexer": "ipython3",
   "version": "3.6.1"
  }
 },
 "nbformat": 4,
 "nbformat_minor": 1
}
